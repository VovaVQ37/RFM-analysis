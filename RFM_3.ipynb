{
 "cells": [
  {
   "cell_type": "code",
   "execution_count": 3,
   "metadata": {},
   "outputs": [],
   "source": [
    "import pandas as pd\n",
    "data = pd.read_csv('RFM201810.csv',low_memory = False)"
   ]
  },
  {
   "cell_type": "code",
   "execution_count": 4,
   "metadata": {},
   "outputs": [
    {
     "data": {
      "text/html": [
       "<div>\n",
       "<style scoped>\n",
       "    .dataframe tbody tr th:only-of-type {\n",
       "        vertical-align: middle;\n",
       "    }\n",
       "\n",
       "    .dataframe tbody tr th {\n",
       "        vertical-align: top;\n",
       "    }\n",
       "\n",
       "    .dataframe thead th {\n",
       "        text-align: right;\n",
       "    }\n",
       "</style>\n",
       "<table border=\"1\" class=\"dataframe\">\n",
       "  <thead>\n",
       "    <tr style=\"text-align: right;\">\n",
       "      <th></th>\n",
       "      <th>InvoiceNo</th>\n",
       "      <th>CustomerCode</th>\n",
       "      <th>InvoiceDate</th>\n",
       "      <th>Amount</th>\n",
       "    </tr>\n",
       "  </thead>\n",
       "  <tbody>\n",
       "    <tr>\n",
       "      <td>0</td>\n",
       "      <td>C0011810010001</td>\n",
       "      <td>19067290</td>\n",
       "      <td>2018-10-01 00:00:00.000</td>\n",
       "      <td>1716.00</td>\n",
       "    </tr>\n",
       "    <tr>\n",
       "      <td>1</td>\n",
       "      <td>C0011810010017</td>\n",
       "      <td>13233933</td>\n",
       "      <td>2018-10-01 00:00:00.000</td>\n",
       "      <td>1489.74</td>\n",
       "    </tr>\n",
       "    <tr>\n",
       "      <td>2</td>\n",
       "      <td>C0011810010020</td>\n",
       "      <td>99057968</td>\n",
       "      <td>2018-10-01 00:00:00.000</td>\n",
       "      <td>151.47</td>\n",
       "    </tr>\n",
       "    <tr>\n",
       "      <td>3</td>\n",
       "      <td>C0011810010021</td>\n",
       "      <td>80007276</td>\n",
       "      <td>2018-10-01 00:00:00.000</td>\n",
       "      <td>146.72</td>\n",
       "    </tr>\n",
       "    <tr>\n",
       "      <td>4</td>\n",
       "      <td>C0011810010024</td>\n",
       "      <td>13164076</td>\n",
       "      <td>2018-10-01 00:00:00.000</td>\n",
       "      <td>104.00</td>\n",
       "    </tr>\n",
       "    <tr>\n",
       "      <td>...</td>\n",
       "      <td>...</td>\n",
       "      <td>...</td>\n",
       "      <td>...</td>\n",
       "      <td>...</td>\n",
       "    </tr>\n",
       "    <tr>\n",
       "      <td>332725</td>\n",
       "      <td>S0081810310459</td>\n",
       "      <td>14092500</td>\n",
       "      <td>2018-10-31 00:00:00.000</td>\n",
       "      <td>3801.87</td>\n",
       "    </tr>\n",
       "    <tr>\n",
       "      <td>332726</td>\n",
       "      <td>S0081810310461</td>\n",
       "      <td>99065678</td>\n",
       "      <td>2018-10-31 00:00:00.000</td>\n",
       "      <td>5769.88</td>\n",
       "    </tr>\n",
       "    <tr>\n",
       "      <td>332727</td>\n",
       "      <td>S0081810310462</td>\n",
       "      <td>19029918</td>\n",
       "      <td>2018-10-31 00:00:00.000</td>\n",
       "      <td>736.88</td>\n",
       "    </tr>\n",
       "    <tr>\n",
       "      <td>332728</td>\n",
       "      <td>S0081810310463</td>\n",
       "      <td>13020033</td>\n",
       "      <td>2018-10-31 00:00:00.000</td>\n",
       "      <td>1475.20</td>\n",
       "    </tr>\n",
       "    <tr>\n",
       "      <td>332729</td>\n",
       "      <td>S0081810310466</td>\n",
       "      <td>13046679</td>\n",
       "      <td>2018-10-31 00:00:00.000</td>\n",
       "      <td>709.56</td>\n",
       "    </tr>\n",
       "  </tbody>\n",
       "</table>\n",
       "<p>332730 rows × 4 columns</p>\n",
       "</div>"
      ],
      "text/plain": [
       "             InvoiceNo CustomerCode              InvoiceDate   Amount\n",
       "0       C0011810010001     19067290  2018-10-01 00:00:00.000  1716.00\n",
       "1       C0011810010017     13233933  2018-10-01 00:00:00.000  1489.74\n",
       "2       C0011810010020     99057968  2018-10-01 00:00:00.000   151.47\n",
       "3       C0011810010021     80007276  2018-10-01 00:00:00.000   146.72\n",
       "4       C0011810010024     13164076  2018-10-01 00:00:00.000   104.00\n",
       "...                ...          ...                      ...      ...\n",
       "332725  S0081810310459     14092500  2018-10-31 00:00:00.000  3801.87\n",
       "332726  S0081810310461     99065678  2018-10-31 00:00:00.000  5769.88\n",
       "332727  S0081810310462     19029918  2018-10-31 00:00:00.000   736.88\n",
       "332728  S0081810310463     13020033  2018-10-31 00:00:00.000  1475.20\n",
       "332729  S0081810310466     13046679  2018-10-31 00:00:00.000   709.56\n",
       "\n",
       "[332730 rows x 4 columns]"
      ]
     },
     "execution_count": 4,
     "metadata": {},
     "output_type": "execute_result"
    }
   ],
   "source": [
    "data"
   ]
  },
  {
   "cell_type": "code",
   "execution_count": 5,
   "metadata": {},
   "outputs": [],
   "source": [
    "import datetime as dt\n",
    "NOW = dt.datetime(2018,10,31)"
   ]
  },
  {
   "cell_type": "code",
   "execution_count": 6,
   "metadata": {},
   "outputs": [],
   "source": [
    "data['InvoiceDate'] = pd.to_datetime(data['InvoiceDate'])\n"
   ]
  },
  {
   "cell_type": "code",
   "execution_count": 14,
   "metadata": {},
   "outputs": [],
   "source": [
    "rfmtable = data.groupby('CustomerCode').agg({'InvoiceDate': lambda x: (NOW - x.max()).days, # Recency #Количество дней с последнего заказа\n",
    "                                        'InvoiceNo': lambda x: len(x),# Frequency #Количество заказов\n",
    "                                        'Amount': lambda x: x.sum()}) # Monetary Value Общая сумма по всем заказам\n",
    "\n",
    "\n",
    "\n",
    "rfmtable['InvoiceDate'] = rfmtable['InvoiceDate'].astype(int)\n",
    "rfmtable.rename(columns={'InvoiceDate': 'recency', \n",
    "                         'InvoiceNo': 'frequency', \n",
    "                         'Amount': 'monetary_value'}, inplace=True)"
   ]
  },
  {
   "cell_type": "code",
   "execution_count": 19,
   "metadata": {},
   "outputs": [],
   "source": [
    "quantiles = rfmtable.quantile(q=[0.25,0.5,0.75])"
   ]
  },
  {
   "cell_type": "code",
   "execution_count": 20,
   "metadata": {},
   "outputs": [],
   "source": [
    "rfmSegmentation = rfmtable"
   ]
  },
  {
   "cell_type": "code",
   "execution_count": 21,
   "metadata": {},
   "outputs": [],
   "source": [
    "# R-Recensy\n",
    "def RClass(x,p,d):\n",
    "    if x <= d[p][0.25]:\n",
    "        return 1\n",
    "    elif x <= d[p][0.50]:\n",
    "        return 2\n",
    "    elif x <= d[p][0.75]: \n",
    "        return 3\n",
    "    else:\n",
    "        return 4\n",
    "    \n",
    "# F-Frequency, M-Monetary Value\n",
    "def FMClass(x,p,d):\n",
    "    if x <= d[p][0.25]:\n",
    "        return 4\n",
    "    elif x <= d[p][0.50]:\n",
    "        return 3\n",
    "    elif x <= d[p][0.75]: \n",
    "        return 2\n",
    "    else:\n",
    "        return 1"
   ]
  },
  {
   "cell_type": "code",
   "execution_count": 22,
   "metadata": {},
   "outputs": [
    {
     "data": {
      "text/plain": [
       "444    10603\n",
       "111     9712\n",
       "443     6726\n",
       "344     6578\n",
       "211     5853\n",
       "       ...  \n",
       "424       63\n",
       "114       60\n",
       "214       60\n",
       "314       33\n",
       "414        2\n",
       "Name: RFMClass, Length: 64, dtype: int64"
      ]
     },
     "execution_count": 22,
     "metadata": {},
     "output_type": "execute_result"
    }
   ],
   "source": [
    "#преобразование таблицы\n",
    "rfmSegmentation['R_Quartile'] = rfmSegmentation['recency'].apply(RClass, args=('recency',quantiles,))\n",
    "rfmSegmentation['F_Quartile'] = rfmSegmentation['frequency'].apply(FMClass, args=('frequency',quantiles,))\n",
    "rfmSegmentation['M_Quartile'] = rfmSegmentation['monetary_value'].apply(FMClass, args=('monetary_value',quantiles,))\n",
    "\n",
    "rfmSegmentation['RFMClass'] = rfmSegmentation.R_Quartile.map(str) \\\n",
    "                            + rfmSegmentation.F_Quartile.map(str) \\\n",
    "                            + rfmSegmentation.M_Quartile.map(str)\n",
    "\n",
    "rfmSegmentation['RFMClass'].value_counts()"
   ]
  },
  {
   "cell_type": "code",
   "execution_count": null,
   "metadata": {},
   "outputs": [],
   "source": []
  }
 ],
 "metadata": {
  "kernelspec": {
   "display_name": "Python 3",
   "language": "python",
   "name": "python3"
  },
  "language_info": {
   "codemirror_mode": {
    "name": "ipython",
    "version": 3
   },
   "file_extension": ".py",
   "mimetype": "text/x-python",
   "name": "python",
   "nbconvert_exporter": "python",
   "pygments_lexer": "ipython3",
   "version": "3.7.4"
  }
 },
 "nbformat": 4,
 "nbformat_minor": 2
}
